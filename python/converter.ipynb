{
 "cells": [
  {
   "cell_type": "code",
   "execution_count": 21,
   "metadata": {},
   "outputs": [],
   "source": [
    "configuracao1 = {\n",
    "    \"team_position\": [\n",
    "        {\"id\": 0, \"x\": -2050.0, \"y\": 0.0, \"z\": 0.0, \"orientation\": 0.0},\n",
    "        {\"id\": 1, \"x\": -1000.0, \"y\": -750.0, \"z\": 0.0, \"orientation\": 0.0},\n",
    "        {\"id\": 2, \"x\": -1000.0, \"y\": 750.0, \"z\": 0.0, \"orientation\": 0.0},\n",
    "    ],\n",
    "    \"enemy_position\": [\n",
    "        {\"id\": 0, \"x\": 1000.0, \"y\": -750.0, \"z\": 0.0, \"orientation\": 0.0},\n",
    "        {\"id\": 1, \"x\": 1000.0, \"y\": 750.0, \"z\": 0.0, \"orientation\": 0.0},\n",
    "        {\"id\": 2, \"x\": 2050.0, \"y\": 0.0, \"z\": 0.0, \"orientation\": 0.0},\n",
    "    ],\n",
    "    \"field_size\": [4500.0, 3000.0],\n",
    "    \"goal_size\": 800.0\n",
    "}"
   ]
  },
  {
   "cell_type": "code",
   "execution_count": 22,
   "metadata": {},
   "outputs": [],
   "source": [
    "configuracao2 = {\n",
    "    \"team_position\": [\n",
    "        {\"id\": 0, \"x\": -2000.0, \"y\": 0.0, \"z\": 0.0, \"orientation\": 0.0},  # Defensor esquerdo\n",
    "        {\"id\": 1, \"x\": -1000.0, \"y\": 750.0, \"z\": 0.0, \"orientation\": 0.0},  # Defensor direito\n",
    "        {\"id\": 2, \"x\": 0.0, \"y\": -750.0, \"z\": 0.0, \"orientation\": 0.0},  # Meio-campo central\n",
    "    ],\n",
    "    \"enemy_position\": [\n",
    "        {\"id\": 0, \"x\": 1250.0, \"y\": -750.0, \"z\": 0.0, \"orientation\": 0.0},  # Atacante esquerdo\n",
    "        {\"id\": 1, \"x\": 1250.0, \"y\": 750.0, \"z\": 0.0, \"orientation\": 0.0},  # Atacante direito\n",
    "        {\"id\": 2, \"x\": 2000.0, \"y\": 0.0, \"z\": 0.0, \"orientation\": 0.0},  # Atacante central\n",
    "    ],\n",
    "    \"field_size\": [4500.0, 3000.0],\n",
    "    \"goal_size\": 800.0\n",
    "}"
   ]
  },
  {
   "cell_type": "code",
   "execution_count": 23,
   "metadata": {},
   "outputs": [],
   "source": [
    "configuracao3 = {\n",
    "    \"team_position\": [\n",
    "        {\"id\": 0, \"x\": -2000.0, \"y\": 0.0, \"z\": 0.0, \"orientation\": 0.0},  # Defensor esquerdo\n",
    "        {\"id\": 1, \"x\": -1000.0, \"y\": 0.0, \"z\": 0.0, \"orientation\": 0.0},  # Defensor direito\n",
    "        {\"id\": 2, \"x\": 1000.0, \"y\": 0.0, \"z\": 0.0, \"orientation\": 0.0},  # Meio-campo central\n",
    "    ],\n",
    "    \"enemy_position\": [\n",
    "        {\"id\": 0, \"x\": 1250.0, \"y\": -750.0, \"z\": 0.0, \"orientation\": 0.0},  # Atacante esquerdo\n",
    "        {\"id\": 1, \"x\": 1250.0, \"y\": 750.0, \"z\": 0.0, \"orientation\": 0.0},  # Atacante direito\n",
    "        {\"id\": 2, \"x\": 2000.0, \"y\": 0.0, \"z\": 0.0, \"orientation\": 0.0},  # Atacante central\n",
    "    ],\n",
    "    \"field_size\": [4500.0, 3000.0],\n",
    "    \"goal_size\": 800.0\n",
    "}"
   ]
  },
  {
   "cell_type": "code",
   "execution_count": 24,
   "metadata": {},
   "outputs": [],
   "source": [
    "fieldSizeX = 4500\n",
    "fieldSizeY = 3000"
   ]
  },
  {
   "cell_type": "code",
   "execution_count": 25,
   "metadata": {},
   "outputs": [],
   "source": [
    "def parseSize(x,y, factor = 1):\n",
    "    return (x + (fieldSizeX/2))* factor, (y + (fieldSizeY/2)) * factor"
   ]
  },
  {
   "cell_type": "code",
   "execution_count": 26,
   "metadata": {},
   "outputs": [],
   "source": [
    "def getRobotData(robot,index):\n",
    "    print(f\"{index} & ({robot['x']},{robot['y']}) & 0 & {parseSize(robot['x'],robot['y'])} & {parseSize(robot['x'],robot['y'], 1/10)}\")"
   ]
  },
  {
   "cell_type": "code",
   "execution_count": 27,
   "metadata": {},
   "outputs": [],
   "source": [
    "def getConfigData(config):\n",
    "  print(\"Team Data\")\n",
    "  for index, robot in enumerate(config[\"team_position\"]):\n",
    "    getRobotData(robot, index)\n",
    "\n",
    "  print(\"Enemy Data\")\n",
    "  for index, robot in enumerate(config[\"enemy_position\"]):\n",
    "    getRobotData(robot, index)"
   ]
  },
  {
   "cell_type": "code",
   "execution_count": 28,
   "metadata": {},
   "outputs": [
    {
     "name": "stdout",
     "output_type": "stream",
     "text": [
      "Team Data\n",
      "0 & (-2050.0,0.0) & 0 & (200.0, 1500.0) & (20.0, 150.0)\n",
      "1 & (-1000.0,-750.0) & 0 & (1250.0, 750.0) & (125.0, 75.0)\n",
      "2 & (-1000.0,750.0) & 0 & (1250.0, 2250.0) & (125.0, 225.0)\n",
      "Enemy Data\n",
      "0 & (1000.0,-750.0) & 0 & (3250.0, 750.0) & (325.0, 75.0)\n",
      "1 & (1000.0,750.0) & 0 & (3250.0, 2250.0) & (325.0, 225.0)\n",
      "2 & (2050.0,0.0) & 0 & (4300.0, 1500.0) & (430.0, 150.0)\n"
     ]
    }
   ],
   "source": [
    "getConfigData(configuracao1)"
   ]
  },
  {
   "cell_type": "code",
   "execution_count": 29,
   "metadata": {},
   "outputs": [
    {
     "name": "stdout",
     "output_type": "stream",
     "text": [
      "Team Data\n",
      "0 & (-2000.0,0.0) & 0 & (250.0, 1500.0) & (25.0, 150.0)\n",
      "1 & (-1000.0,750.0) & 0 & (1250.0, 2250.0) & (125.0, 225.0)\n",
      "2 & (0.0,-750.0) & 0 & (2250.0, 750.0) & (225.0, 75.0)\n",
      "Enemy Data\n",
      "0 & (1250.0,-750.0) & 0 & (3500.0, 750.0) & (350.0, 75.0)\n",
      "1 & (1250.0,750.0) & 0 & (3500.0, 2250.0) & (350.0, 225.0)\n",
      "2 & (2000.0,0.0) & 0 & (4250.0, 1500.0) & (425.0, 150.0)\n"
     ]
    }
   ],
   "source": [
    "getConfigData(configuracao2)"
   ]
  },
  {
   "cell_type": "code",
   "execution_count": 30,
   "metadata": {},
   "outputs": [
    {
     "name": "stdout",
     "output_type": "stream",
     "text": [
      "Team Data\n",
      "0 & (-2000.0,0.0) & 0 & (250.0, 1500.0) & (25.0, 150.0)\n",
      "1 & (-1000.0,0.0) & 0 & (1250.0, 1500.0) & (125.0, 150.0)\n",
      "2 & (1000.0,0.0) & 0 & (3250.0, 1500.0) & (325.0, 150.0)\n",
      "Enemy Data\n",
      "0 & (1250.0,-750.0) & 0 & (3500.0, 750.0) & (350.0, 75.0)\n",
      "1 & (1250.0,750.0) & 0 & (3500.0, 2250.0) & (350.0, 225.0)\n",
      "2 & (2000.0,0.0) & 0 & (4250.0, 1500.0) & (425.0, 150.0)\n"
     ]
    }
   ],
   "source": [
    "getConfigData(configuracao3)"
   ]
  }
 ],
 "metadata": {
  "kernelspec": {
   "display_name": "Python 3",
   "language": "python",
   "name": "python3"
  },
  "language_info": {
   "codemirror_mode": {
    "name": "ipython",
    "version": 3
   },
   "file_extension": ".py",
   "mimetype": "text/x-python",
   "name": "python",
   "nbconvert_exporter": "python",
   "pygments_lexer": "ipython3",
   "version": "3.10.12"
  }
 },
 "nbformat": 4,
 "nbformat_minor": 2
}
