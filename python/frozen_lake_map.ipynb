{
 "cells": [
  {
   "cell_type": "code",
   "execution_count": 5,
   "metadata": {},
   "outputs": [],
   "source": [
    "from map import Map"
   ]
  },
  {
   "cell_type": "code",
   "execution_count": 6,
   "metadata": {},
   "outputs": [],
   "source": [
    "frozen_lake_shape = (4, 4)\n",
    "\n",
    "frozen_lake = Map(startPos=None, goalPos=None, tableShape=frozen_lake_shape, showGUI=True)\n",
    "\n",
    "# Gerando mapa vazio\n",
    "frozen_lake.saveScreenshot(\"charts/fl_clean_map\")"
   ]
  },
  {
   "cell_type": "code",
   "execution_count": 7,
   "metadata": {},
   "outputs": [],
   "source": [
    "# Gerando mapa com obstáculos\n",
    "frozen_lake.setObstacles([(1, 1), (1, 2)])\n",
    "frozen_lake.saveScreenshot(\"charts/fl_with_obstacles\")"
   ]
  },
  {
   "cell_type": "code",
   "execution_count": 8,
   "metadata": {},
   "outputs": [],
   "source": [
    "# Plotando goal e região goal\n",
    "frozen_lake.setGoal((3, 3), 1)\n",
    "frozen_lake.saveScreenshot(\"charts/fl_obs_and_goal\")"
   ]
  },
  {
   "cell_type": "code",
   "execution_count": null,
   "metadata": {},
   "outputs": [],
   "source": []
  }
 ],
 "metadata": {
  "kernelspec": {
   "display_name": "venv",
   "language": "python",
   "name": "python3"
  },
  "language_info": {
   "codemirror_mode": {
    "name": "ipython",
    "version": 3
   },
   "file_extension": ".py",
   "mimetype": "text/x-python",
   "name": "python",
   "nbconvert_exporter": "python",
   "pygments_lexer": "ipython3",
   "version": "3.10.12"
  }
 },
 "nbformat": 4,
 "nbformat_minor": 2
}
